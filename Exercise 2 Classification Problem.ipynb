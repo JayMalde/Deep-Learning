{
  "nbformat": 4,
  "nbformat_minor": 0,
  "metadata": {
    "colab": {
      "name": "Exercise2.ipynb",
      "provenance": [],
      "collapsed_sections": [
        "wW6KBZPLGkiE",
        "aWcADfyFG6Ub",
        "Wq75TFbYGUcG",
        "nFo-iMoUGITO",
        "5ND4sLt9Fz9E",
        "FGiKRJ6cFh3Z"
      ],
      "authorship_tag": "ABX9TyMhtd/X5mTWHy2MDMQ683Y6",
      "include_colab_link": true
    },
    "kernelspec": {
      "name": "python3",
      "display_name": "Python 3"
    }
  },
  "cells": [
    {
      "cell_type": "markdown",
      "metadata": {
        "id": "view-in-github",
        "colab_type": "text"
      },
      "source": [
        "<a href=\"https://colab.research.google.com/github/JayMalde/demo-repo/blob/master/Exercise%202%20Classification%20Problem.ipynb\" target=\"_parent\"><img src=\"https://colab.research.google.com/assets/colab-badge.svg\" alt=\"Open In Colab\"/></a>"
      ]
    },
    {
      "cell_type": "markdown",
      "metadata": {
        "id": "wW6KBZPLGkiE",
        "colab_type": "text"
      },
      "source": [
        "# **Classification Problem**\n",
        "---"
      ]
    },
    {
      "cell_type": "code",
      "metadata": {
        "id": "NjZ49b1tGEK2",
        "colab_type": "code",
        "colab": {}
      },
      "source": [
        "import tensorflow as tf"
      ],
      "execution_count": 1,
      "outputs": []
    },
    {
      "cell_type": "code",
      "metadata": {
        "id": "NDeyl5-2__nJ",
        "colab_type": "code",
        "colab": {
          "base_uri": "https://localhost:8080/",
          "height": 35
        },
        "outputId": "1afb24e7-06f0-4cc2-fa8c-76d552d94a34"
      },
      "source": [
        "tf.__version__"
      ],
      "execution_count": 2,
      "outputs": [
        {
          "output_type": "execute_result",
          "data": {
            "application/vnd.google.colaboratory.intrinsic+json": {
              "type": "string"
            },
            "text/plain": [
              "'2.3.0'"
            ]
          },
          "metadata": {
            "tags": []
          },
          "execution_count": 2
        }
      ]
    },
    {
      "cell_type": "markdown",
      "metadata": {
        "id": "aWcADfyFG6Ub",
        "colab_type": "text"
      },
      "source": [
        "# **Loading Data and Checking Its Features**"
      ]
    },
    {
      "cell_type": "code",
      "metadata": {
        "id": "h2RR88YUACt0",
        "colab_type": "code",
        "colab": {}
      },
      "source": [
        "from sklearn.datasets import load_breast_cancer"
      ],
      "execution_count": 3,
      "outputs": []
    },
    {
      "cell_type": "code",
      "metadata": {
        "id": "xdT0DFyPALTL",
        "colab_type": "code",
        "colab": {}
      },
      "source": [
        "data = load_breast_cancer()"
      ],
      "execution_count": 6,
      "outputs": []
    },
    {
      "cell_type": "code",
      "metadata": {
        "id": "o9CYxTSvAO4T",
        "colab_type": "code",
        "colab": {
          "base_uri": "https://localhost:8080/",
          "height": 34
        },
        "outputId": "d4889ace-7971-4e6d-d680-8a44483e38d3"
      },
      "source": [
        "type(data)"
      ],
      "execution_count": 7,
      "outputs": [
        {
          "output_type": "execute_result",
          "data": {
            "text/plain": [
              "sklearn.utils.Bunch"
            ]
          },
          "metadata": {
            "tags": []
          },
          "execution_count": 7
        }
      ]
    },
    {
      "cell_type": "code",
      "metadata": {
        "id": "papaKEE9AQnq",
        "colab_type": "code",
        "colab": {
          "base_uri": "https://localhost:8080/",
          "height": 34
        },
        "outputId": "2ad05bb9-3661-4e57-b313-8c75ea924f3d"
      },
      "source": [
        "data.keys()"
      ],
      "execution_count": 8,
      "outputs": [
        {
          "output_type": "execute_result",
          "data": {
            "text/plain": [
              "dict_keys(['data', 'target', 'target_names', 'DESCR', 'feature_names', 'filename'])"
            ]
          },
          "metadata": {
            "tags": []
          },
          "execution_count": 8
        }
      ]
    },
    {
      "cell_type": "code",
      "metadata": {
        "id": "W5Guq8CGAX3L",
        "colab_type": "code",
        "colab": {
          "base_uri": "https://localhost:8080/",
          "height": 34
        },
        "outputId": "b648de5e-116c-4bf6-cd0b-c3ea50178751"
      },
      "source": [
        "data.data.shape"
      ],
      "execution_count": 12,
      "outputs": [
        {
          "output_type": "execute_result",
          "data": {
            "text/plain": [
              "(569, 30)"
            ]
          },
          "metadata": {
            "tags": []
          },
          "execution_count": 12
        }
      ]
    },
    {
      "cell_type": "code",
      "metadata": {
        "id": "q3eIPWthAajz",
        "colab_type": "code",
        "colab": {
          "base_uri": "https://localhost:8080/",
          "height": 459
        },
        "outputId": "2bf7c5ba-4ac6-4306-ae8d-2b1e5929f734"
      },
      "source": [
        "data.target"
      ],
      "execution_count": 13,
      "outputs": [
        {
          "output_type": "execute_result",
          "data": {
            "text/plain": [
              "array([0, 0, 0, 0, 0, 0, 0, 0, 0, 0, 0, 0, 0, 0, 0, 0, 0, 0, 0, 1, 1, 1,\n",
              "       0, 0, 0, 0, 0, 0, 0, 0, 0, 0, 0, 0, 0, 0, 0, 1, 0, 0, 0, 0, 0, 0,\n",
              "       0, 0, 1, 0, 1, 1, 1, 1, 1, 0, 0, 1, 0, 0, 1, 1, 1, 1, 0, 1, 0, 0,\n",
              "       1, 1, 1, 1, 0, 1, 0, 0, 1, 0, 1, 0, 0, 1, 1, 1, 0, 0, 1, 0, 0, 0,\n",
              "       1, 1, 1, 0, 1, 1, 0, 0, 1, 1, 1, 0, 0, 1, 1, 1, 1, 0, 1, 1, 0, 1,\n",
              "       1, 1, 1, 1, 1, 1, 1, 0, 0, 0, 1, 0, 0, 1, 1, 1, 0, 0, 1, 0, 1, 0,\n",
              "       0, 1, 0, 0, 1, 1, 0, 1, 1, 0, 1, 1, 1, 1, 0, 1, 1, 1, 1, 1, 1, 1,\n",
              "       1, 1, 0, 1, 1, 1, 1, 0, 0, 1, 0, 1, 1, 0, 0, 1, 1, 0, 0, 1, 1, 1,\n",
              "       1, 0, 1, 1, 0, 0, 0, 1, 0, 1, 0, 1, 1, 1, 0, 1, 1, 0, 0, 1, 0, 0,\n",
              "       0, 0, 1, 0, 0, 0, 1, 0, 1, 0, 1, 1, 0, 1, 0, 0, 0, 0, 1, 1, 0, 0,\n",
              "       1, 1, 1, 0, 1, 1, 1, 1, 1, 0, 0, 1, 1, 0, 1, 1, 0, 0, 1, 0, 1, 1,\n",
              "       1, 1, 0, 1, 1, 1, 1, 1, 0, 1, 0, 0, 0, 0, 0, 0, 0, 0, 0, 0, 0, 0,\n",
              "       0, 0, 1, 1, 1, 1, 1, 1, 0, 1, 0, 1, 1, 0, 1, 1, 0, 1, 0, 0, 1, 1,\n",
              "       1, 1, 1, 1, 1, 1, 1, 1, 1, 1, 1, 0, 1, 1, 0, 1, 0, 1, 1, 1, 1, 1,\n",
              "       1, 1, 1, 1, 1, 1, 1, 1, 1, 0, 1, 1, 1, 0, 1, 0, 1, 1, 1, 1, 0, 0,\n",
              "       0, 1, 1, 1, 1, 0, 1, 0, 1, 0, 1, 1, 1, 0, 1, 1, 1, 1, 1, 1, 1, 0,\n",
              "       0, 0, 1, 1, 1, 1, 1, 1, 1, 1, 1, 1, 1, 0, 0, 1, 0, 0, 0, 1, 0, 0,\n",
              "       1, 1, 1, 1, 1, 0, 1, 1, 1, 1, 1, 0, 1, 1, 1, 0, 1, 1, 0, 0, 1, 1,\n",
              "       1, 1, 1, 1, 0, 1, 1, 1, 1, 1, 1, 1, 0, 1, 1, 1, 1, 1, 0, 1, 1, 0,\n",
              "       1, 1, 1, 1, 1, 1, 1, 1, 1, 1, 1, 1, 0, 1, 0, 0, 1, 0, 1, 1, 1, 1,\n",
              "       1, 0, 1, 1, 0, 1, 0, 1, 1, 0, 1, 0, 1, 1, 1, 1, 1, 1, 1, 1, 0, 0,\n",
              "       1, 1, 1, 1, 1, 1, 0, 1, 1, 1, 1, 1, 1, 1, 1, 1, 1, 0, 1, 1, 1, 1,\n",
              "       1, 1, 1, 0, 1, 0, 1, 1, 0, 1, 1, 1, 1, 1, 0, 0, 1, 0, 1, 0, 1, 1,\n",
              "       1, 1, 1, 0, 1, 1, 0, 1, 0, 1, 0, 0, 1, 1, 1, 0, 1, 1, 1, 1, 1, 1,\n",
              "       1, 1, 1, 1, 1, 0, 1, 0, 0, 1, 1, 1, 1, 1, 1, 1, 1, 1, 1, 1, 1, 1,\n",
              "       1, 1, 1, 1, 1, 1, 1, 1, 1, 1, 1, 1, 0, 0, 0, 0, 0, 0, 1])"
            ]
          },
          "metadata": {
            "tags": []
          },
          "execution_count": 13
        }
      ]
    },
    {
      "cell_type": "code",
      "metadata": {
        "id": "3OSF3VefAktS",
        "colab_type": "code",
        "colab": {
          "base_uri": "https://localhost:8080/",
          "height": 34
        },
        "outputId": "127d1296-bc15-40f4-a495-79c892a8b99c"
      },
      "source": [
        "data.target_names"
      ],
      "execution_count": 14,
      "outputs": [
        {
          "output_type": "execute_result",
          "data": {
            "text/plain": [
              "array(['malignant', 'benign'], dtype='<U9')"
            ]
          },
          "metadata": {
            "tags": []
          },
          "execution_count": 14
        }
      ]
    },
    {
      "cell_type": "code",
      "metadata": {
        "id": "e0NYlAJ6Aqbz",
        "colab_type": "code",
        "colab": {
          "base_uri": "https://localhost:8080/",
          "height": 34
        },
        "outputId": "89896139-311c-4f63-bdc0-be2e11117241"
      },
      "source": [
        "data.target.shape"
      ],
      "execution_count": 15,
      "outputs": [
        {
          "output_type": "execute_result",
          "data": {
            "text/plain": [
              "(569,)"
            ]
          },
          "metadata": {
            "tags": []
          },
          "execution_count": 15
        }
      ]
    },
    {
      "cell_type": "code",
      "metadata": {
        "id": "GCJCC-PCA1Ga",
        "colab_type": "code",
        "colab": {
          "base_uri": "https://localhost:8080/",
          "height": 187
        },
        "outputId": "c7d8e047-c1d3-49d3-9b8d-c4c8b9369684"
      },
      "source": [
        "data.feature_names"
      ],
      "execution_count": 16,
      "outputs": [
        {
          "output_type": "execute_result",
          "data": {
            "text/plain": [
              "array(['mean radius', 'mean texture', 'mean perimeter', 'mean area',\n",
              "       'mean smoothness', 'mean compactness', 'mean concavity',\n",
              "       'mean concave points', 'mean symmetry', 'mean fractal dimension',\n",
              "       'radius error', 'texture error', 'perimeter error', 'area error',\n",
              "       'smoothness error', 'compactness error', 'concavity error',\n",
              "       'concave points error', 'symmetry error',\n",
              "       'fractal dimension error', 'worst radius', 'worst texture',\n",
              "       'worst perimeter', 'worst area', 'worst smoothness',\n",
              "       'worst compactness', 'worst concavity', 'worst concave points',\n",
              "       'worst symmetry', 'worst fractal dimension'], dtype='<U23')"
            ]
          },
          "metadata": {
            "tags": []
          },
          "execution_count": 16
        }
      ]
    },
    {
      "cell_type": "markdown",
      "metadata": {
        "id": "Wq75TFbYGUcG",
        "colab_type": "text"
      },
      "source": [
        "# **Dividing The Data in Train And Split**"
      ]
    },
    {
      "cell_type": "code",
      "metadata": {
        "id": "3CvpTInlA6pS",
        "colab_type": "code",
        "colab": {}
      },
      "source": [
        "from sklearn.model_selection import train_test_split"
      ],
      "execution_count": 17,
      "outputs": []
    },
    {
      "cell_type": "code",
      "metadata": {
        "id": "JE6wgkhVBCkJ",
        "colab_type": "code",
        "colab": {}
      },
      "source": [
        "X_train,X_test,Y_train,Y_test=train_test_split(data.data,data.target,test_size=0.33,random_state=42)"
      ],
      "execution_count": 18,
      "outputs": []
    },
    {
      "cell_type": "code",
      "metadata": {
        "id": "ckY8KBTgB5GH",
        "colab_type": "code",
        "colab": {}
      },
      "source": [
        "N,D = X_train.shape"
      ],
      "execution_count": 19,
      "outputs": []
    },
    {
      "cell_type": "code",
      "metadata": {
        "id": "P2i7WsLgB9SH",
        "colab_type": "code",
        "colab": {
          "base_uri": "https://localhost:8080/",
          "height": 34
        },
        "outputId": "fc18cdb3-8a80-4cb6-c0bf-af91b296aefd"
      },
      "source": [
        "print(N,D)"
      ],
      "execution_count": 20,
      "outputs": [
        {
          "output_type": "stream",
          "text": [
            "381 30\n"
          ],
          "name": "stdout"
        }
      ]
    },
    {
      "cell_type": "markdown",
      "metadata": {
        "id": "nFo-iMoUGITO",
        "colab_type": "text"
      },
      "source": [
        "# **Normalizing The Data**"
      ]
    },
    {
      "cell_type": "code",
      "metadata": {
        "id": "tBmJCFIOB_jn",
        "colab_type": "code",
        "colab": {}
      },
      "source": [
        "from sklearn.preprocessing import StandardScaler"
      ],
      "execution_count": 21,
      "outputs": []
    },
    {
      "cell_type": "code",
      "metadata": {
        "id": "S_MzyyFzCJgQ",
        "colab_type": "code",
        "colab": {}
      },
      "source": [
        "scaler = StandardScaler()\n",
        "X_train = scaler.fit_transform(X_train)\n",
        "X_test = scaler.transform(X_test)"
      ],
      "execution_count": 22,
      "outputs": []
    },
    {
      "cell_type": "markdown",
      "metadata": {
        "id": "5ND4sLt9Fz9E",
        "colab_type": "text"
      },
      "source": [
        "# **Creating Model**"
      ]
    },
    {
      "cell_type": "code",
      "metadata": {
        "id": "k5nJp22VCn5G",
        "colab_type": "code",
        "colab": {
          "base_uri": "https://localhost:8080/",
          "height": 1000
        },
        "outputId": "4794299b-8fea-4c12-d2bc-fbb38b52f447"
      },
      "source": [
        "import keras\n",
        "model = keras.models.Sequential([\n",
        "    keras.layers.Input(shape=(D,)),\n",
        "    keras.layers.Dense(1, activation='sigmoid')\n",
        "])\n",
        "model.compile(optimizer='adam',loss='binary_crossentropy',metrics=['accuracy'])\n",
        "r= model.fit(X_train,Y_train,validation_data = (X_test,Y_test),epochs=100)"
      ],
      "execution_count": 30,
      "outputs": [
        {
          "output_type": "stream",
          "text": [
            "Epoch 1/100\n",
            "12/12 [==============================] - 0s 13ms/step - loss: 0.5931 - accuracy: 0.7192 - val_loss: 0.5423 - val_accuracy: 0.7287\n",
            "Epoch 2/100\n",
            "12/12 [==============================] - 0s 3ms/step - loss: 0.5381 - accuracy: 0.7533 - val_loss: 0.4962 - val_accuracy: 0.7394\n",
            "Epoch 3/100\n",
            "12/12 [==============================] - 0s 3ms/step - loss: 0.4923 - accuracy: 0.7927 - val_loss: 0.4572 - val_accuracy: 0.7766\n",
            "Epoch 4/100\n",
            "12/12 [==============================] - 0s 3ms/step - loss: 0.4515 - accuracy: 0.8294 - val_loss: 0.4252 - val_accuracy: 0.8138\n",
            "Epoch 5/100\n",
            "12/12 [==============================] - 0s 4ms/step - loss: 0.4195 - accuracy: 0.8425 - val_loss: 0.3974 - val_accuracy: 0.8351\n",
            "Epoch 6/100\n",
            "12/12 [==============================] - 0s 3ms/step - loss: 0.3914 - accuracy: 0.8556 - val_loss: 0.3737 - val_accuracy: 0.8457\n",
            "Epoch 7/100\n",
            "12/12 [==============================] - 0s 3ms/step - loss: 0.3674 - accuracy: 0.8766 - val_loss: 0.3535 - val_accuracy: 0.8564\n",
            "Epoch 8/100\n",
            "12/12 [==============================] - 0s 3ms/step - loss: 0.3468 - accuracy: 0.8793 - val_loss: 0.3362 - val_accuracy: 0.8617\n",
            "Epoch 9/100\n",
            "12/12 [==============================] - 0s 3ms/step - loss: 0.3295 - accuracy: 0.8871 - val_loss: 0.3205 - val_accuracy: 0.8883\n",
            "Epoch 10/100\n",
            "12/12 [==============================] - 0s 3ms/step - loss: 0.3137 - accuracy: 0.8976 - val_loss: 0.3067 - val_accuracy: 0.8989\n",
            "Epoch 11/100\n",
            "12/12 [==============================] - 0s 3ms/step - loss: 0.2995 - accuracy: 0.9055 - val_loss: 0.2948 - val_accuracy: 0.8989\n",
            "Epoch 12/100\n",
            "12/12 [==============================] - 0s 3ms/step - loss: 0.2871 - accuracy: 0.9108 - val_loss: 0.2835 - val_accuracy: 0.9096\n",
            "Epoch 13/100\n",
            "12/12 [==============================] - 0s 3ms/step - loss: 0.2756 - accuracy: 0.9186 - val_loss: 0.2735 - val_accuracy: 0.9096\n",
            "Epoch 14/100\n",
            "12/12 [==============================] - 0s 3ms/step - loss: 0.2657 - accuracy: 0.9318 - val_loss: 0.2640 - val_accuracy: 0.9149\n",
            "Epoch 15/100\n",
            "12/12 [==============================] - 0s 3ms/step - loss: 0.2561 - accuracy: 0.9291 - val_loss: 0.2556 - val_accuracy: 0.9202\n",
            "Epoch 16/100\n",
            "12/12 [==============================] - 0s 3ms/step - loss: 0.2476 - accuracy: 0.9291 - val_loss: 0.2476 - val_accuracy: 0.9309\n",
            "Epoch 17/100\n",
            "12/12 [==============================] - 0s 3ms/step - loss: 0.2395 - accuracy: 0.9318 - val_loss: 0.2405 - val_accuracy: 0.9309\n",
            "Epoch 18/100\n",
            "12/12 [==============================] - 0s 2ms/step - loss: 0.2326 - accuracy: 0.9318 - val_loss: 0.2334 - val_accuracy: 0.9362\n",
            "Epoch 19/100\n",
            "12/12 [==============================] - 0s 3ms/step - loss: 0.2257 - accuracy: 0.9318 - val_loss: 0.2271 - val_accuracy: 0.9362\n",
            "Epoch 20/100\n",
            "12/12 [==============================] - 0s 2ms/step - loss: 0.2195 - accuracy: 0.9318 - val_loss: 0.2212 - val_accuracy: 0.9362\n",
            "Epoch 21/100\n",
            "12/12 [==============================] - 0s 2ms/step - loss: 0.2139 - accuracy: 0.9344 - val_loss: 0.2155 - val_accuracy: 0.9415\n",
            "Epoch 22/100\n",
            "12/12 [==============================] - 0s 3ms/step - loss: 0.2086 - accuracy: 0.9370 - val_loss: 0.2104 - val_accuracy: 0.9468\n",
            "Epoch 23/100\n",
            "12/12 [==============================] - 0s 3ms/step - loss: 0.2037 - accuracy: 0.9396 - val_loss: 0.2056 - val_accuracy: 0.9468\n",
            "Epoch 24/100\n",
            "12/12 [==============================] - 0s 3ms/step - loss: 0.1991 - accuracy: 0.9396 - val_loss: 0.2010 - val_accuracy: 0.9468\n",
            "Epoch 25/100\n",
            "12/12 [==============================] - 0s 3ms/step - loss: 0.1950 - accuracy: 0.9370 - val_loss: 0.1967 - val_accuracy: 0.9468\n",
            "Epoch 26/100\n",
            "12/12 [==============================] - 0s 3ms/step - loss: 0.1910 - accuracy: 0.9396 - val_loss: 0.1926 - val_accuracy: 0.9468\n",
            "Epoch 27/100\n",
            "12/12 [==============================] - 0s 3ms/step - loss: 0.1872 - accuracy: 0.9396 - val_loss: 0.1887 - val_accuracy: 0.9521\n",
            "Epoch 28/100\n",
            "12/12 [==============================] - 0s 3ms/step - loss: 0.1837 - accuracy: 0.9423 - val_loss: 0.1851 - val_accuracy: 0.9521\n",
            "Epoch 29/100\n",
            "12/12 [==============================] - 0s 2ms/step - loss: 0.1804 - accuracy: 0.9449 - val_loss: 0.1816 - val_accuracy: 0.9521\n",
            "Epoch 30/100\n",
            "12/12 [==============================] - 0s 3ms/step - loss: 0.1773 - accuracy: 0.9449 - val_loss: 0.1782 - val_accuracy: 0.9521\n",
            "Epoch 31/100\n",
            "12/12 [==============================] - 0s 3ms/step - loss: 0.1743 - accuracy: 0.9475 - val_loss: 0.1751 - val_accuracy: 0.9521\n",
            "Epoch 32/100\n",
            "12/12 [==============================] - 0s 3ms/step - loss: 0.1715 - accuracy: 0.9528 - val_loss: 0.1720 - val_accuracy: 0.9521\n",
            "Epoch 33/100\n",
            "12/12 [==============================] - 0s 3ms/step - loss: 0.1689 - accuracy: 0.9554 - val_loss: 0.1690 - val_accuracy: 0.9574\n",
            "Epoch 34/100\n",
            "12/12 [==============================] - 0s 2ms/step - loss: 0.1663 - accuracy: 0.9554 - val_loss: 0.1662 - val_accuracy: 0.9574\n",
            "Epoch 35/100\n",
            "12/12 [==============================] - 0s 2ms/step - loss: 0.1638 - accuracy: 0.9554 - val_loss: 0.1635 - val_accuracy: 0.9574\n",
            "Epoch 36/100\n",
            "12/12 [==============================] - 0s 3ms/step - loss: 0.1615 - accuracy: 0.9554 - val_loss: 0.1610 - val_accuracy: 0.9574\n",
            "Epoch 37/100\n",
            "12/12 [==============================] - 0s 2ms/step - loss: 0.1592 - accuracy: 0.9554 - val_loss: 0.1587 - val_accuracy: 0.9574\n",
            "Epoch 38/100\n",
            "12/12 [==============================] - 0s 2ms/step - loss: 0.1572 - accuracy: 0.9554 - val_loss: 0.1563 - val_accuracy: 0.9574\n",
            "Epoch 39/100\n",
            "12/12 [==============================] - 0s 3ms/step - loss: 0.1551 - accuracy: 0.9580 - val_loss: 0.1540 - val_accuracy: 0.9574\n",
            "Epoch 40/100\n",
            "12/12 [==============================] - 0s 3ms/step - loss: 0.1531 - accuracy: 0.9606 - val_loss: 0.1518 - val_accuracy: 0.9574\n",
            "Epoch 41/100\n",
            "12/12 [==============================] - 0s 3ms/step - loss: 0.1513 - accuracy: 0.9606 - val_loss: 0.1496 - val_accuracy: 0.9574\n",
            "Epoch 42/100\n",
            "12/12 [==============================] - 0s 3ms/step - loss: 0.1494 - accuracy: 0.9606 - val_loss: 0.1476 - val_accuracy: 0.9574\n",
            "Epoch 43/100\n",
            "12/12 [==============================] - 0s 3ms/step - loss: 0.1476 - accuracy: 0.9606 - val_loss: 0.1456 - val_accuracy: 0.9574\n",
            "Epoch 44/100\n",
            "12/12 [==============================] - 0s 3ms/step - loss: 0.1460 - accuracy: 0.9606 - val_loss: 0.1437 - val_accuracy: 0.9574\n",
            "Epoch 45/100\n",
            "12/12 [==============================] - 0s 3ms/step - loss: 0.1443 - accuracy: 0.9606 - val_loss: 0.1419 - val_accuracy: 0.9574\n",
            "Epoch 46/100\n",
            "12/12 [==============================] - 0s 3ms/step - loss: 0.1429 - accuracy: 0.9606 - val_loss: 0.1401 - val_accuracy: 0.9628\n",
            "Epoch 47/100\n",
            "12/12 [==============================] - 0s 2ms/step - loss: 0.1413 - accuracy: 0.9606 - val_loss: 0.1383 - val_accuracy: 0.9628\n",
            "Epoch 48/100\n",
            "12/12 [==============================] - 0s 2ms/step - loss: 0.1398 - accuracy: 0.9606 - val_loss: 0.1366 - val_accuracy: 0.9628\n",
            "Epoch 49/100\n",
            "12/12 [==============================] - 0s 3ms/step - loss: 0.1384 - accuracy: 0.9606 - val_loss: 0.1351 - val_accuracy: 0.9628\n",
            "Epoch 50/100\n",
            "12/12 [==============================] - 0s 3ms/step - loss: 0.1370 - accuracy: 0.9606 - val_loss: 0.1336 - val_accuracy: 0.9628\n",
            "Epoch 51/100\n",
            "12/12 [==============================] - 0s 3ms/step - loss: 0.1357 - accuracy: 0.9606 - val_loss: 0.1320 - val_accuracy: 0.9628\n",
            "Epoch 52/100\n",
            "12/12 [==============================] - 0s 3ms/step - loss: 0.1344 - accuracy: 0.9606 - val_loss: 0.1306 - val_accuracy: 0.9681\n",
            "Epoch 53/100\n",
            "12/12 [==============================] - 0s 3ms/step - loss: 0.1332 - accuracy: 0.9606 - val_loss: 0.1291 - val_accuracy: 0.9681\n",
            "Epoch 54/100\n",
            "12/12 [==============================] - 0s 2ms/step - loss: 0.1320 - accuracy: 0.9633 - val_loss: 0.1277 - val_accuracy: 0.9681\n",
            "Epoch 55/100\n",
            "12/12 [==============================] - 0s 3ms/step - loss: 0.1308 - accuracy: 0.9633 - val_loss: 0.1264 - val_accuracy: 0.9681\n",
            "Epoch 56/100\n",
            "12/12 [==============================] - 0s 3ms/step - loss: 0.1297 - accuracy: 0.9633 - val_loss: 0.1251 - val_accuracy: 0.9681\n",
            "Epoch 57/100\n",
            "12/12 [==============================] - 0s 2ms/step - loss: 0.1286 - accuracy: 0.9633 - val_loss: 0.1238 - val_accuracy: 0.9681\n",
            "Epoch 58/100\n",
            "12/12 [==============================] - 0s 2ms/step - loss: 0.1274 - accuracy: 0.9633 - val_loss: 0.1226 - val_accuracy: 0.9681\n",
            "Epoch 59/100\n",
            "12/12 [==============================] - 0s 3ms/step - loss: 0.1265 - accuracy: 0.9659 - val_loss: 0.1214 - val_accuracy: 0.9681\n",
            "Epoch 60/100\n",
            "12/12 [==============================] - 0s 3ms/step - loss: 0.1254 - accuracy: 0.9685 - val_loss: 0.1203 - val_accuracy: 0.9681\n",
            "Epoch 61/100\n",
            "12/12 [==============================] - 0s 3ms/step - loss: 0.1245 - accuracy: 0.9685 - val_loss: 0.1191 - val_accuracy: 0.9681\n",
            "Epoch 62/100\n",
            "12/12 [==============================] - 0s 3ms/step - loss: 0.1235 - accuracy: 0.9685 - val_loss: 0.1180 - val_accuracy: 0.9681\n",
            "Epoch 63/100\n",
            "12/12 [==============================] - 0s 3ms/step - loss: 0.1225 - accuracy: 0.9685 - val_loss: 0.1169 - val_accuracy: 0.9681\n",
            "Epoch 64/100\n",
            "12/12 [==============================] - 0s 3ms/step - loss: 0.1217 - accuracy: 0.9685 - val_loss: 0.1158 - val_accuracy: 0.9681\n",
            "Epoch 65/100\n",
            "12/12 [==============================] - 0s 3ms/step - loss: 0.1207 - accuracy: 0.9685 - val_loss: 0.1148 - val_accuracy: 0.9734\n",
            "Epoch 66/100\n",
            "12/12 [==============================] - 0s 3ms/step - loss: 0.1199 - accuracy: 0.9685 - val_loss: 0.1138 - val_accuracy: 0.9734\n",
            "Epoch 67/100\n",
            "12/12 [==============================] - 0s 4ms/step - loss: 0.1190 - accuracy: 0.9685 - val_loss: 0.1129 - val_accuracy: 0.9734\n",
            "Epoch 68/100\n",
            "12/12 [==============================] - 0s 3ms/step - loss: 0.1182 - accuracy: 0.9685 - val_loss: 0.1119 - val_accuracy: 0.9734\n",
            "Epoch 69/100\n",
            "12/12 [==============================] - 0s 3ms/step - loss: 0.1174 - accuracy: 0.9711 - val_loss: 0.1110 - val_accuracy: 0.9734\n",
            "Epoch 70/100\n",
            "12/12 [==============================] - 0s 3ms/step - loss: 0.1166 - accuracy: 0.9711 - val_loss: 0.1101 - val_accuracy: 0.9734\n",
            "Epoch 71/100\n",
            "12/12 [==============================] - 0s 3ms/step - loss: 0.1158 - accuracy: 0.9711 - val_loss: 0.1092 - val_accuracy: 0.9734\n",
            "Epoch 72/100\n",
            "12/12 [==============================] - 0s 3ms/step - loss: 0.1151 - accuracy: 0.9711 - val_loss: 0.1083 - val_accuracy: 0.9734\n",
            "Epoch 73/100\n",
            "12/12 [==============================] - 0s 3ms/step - loss: 0.1144 - accuracy: 0.9711 - val_loss: 0.1075 - val_accuracy: 0.9734\n",
            "Epoch 74/100\n",
            "12/12 [==============================] - 0s 3ms/step - loss: 0.1137 - accuracy: 0.9711 - val_loss: 0.1067 - val_accuracy: 0.9734\n",
            "Epoch 75/100\n",
            "12/12 [==============================] - 0s 3ms/step - loss: 0.1130 - accuracy: 0.9711 - val_loss: 0.1059 - val_accuracy: 0.9734\n",
            "Epoch 76/100\n",
            "12/12 [==============================] - 0s 3ms/step - loss: 0.1123 - accuracy: 0.9711 - val_loss: 0.1051 - val_accuracy: 0.9734\n",
            "Epoch 77/100\n",
            "12/12 [==============================] - 0s 3ms/step - loss: 0.1116 - accuracy: 0.9711 - val_loss: 0.1043 - val_accuracy: 0.9734\n",
            "Epoch 78/100\n",
            "12/12 [==============================] - 0s 2ms/step - loss: 0.1110 - accuracy: 0.9764 - val_loss: 0.1036 - val_accuracy: 0.9734\n",
            "Epoch 79/100\n",
            "12/12 [==============================] - 0s 2ms/step - loss: 0.1103 - accuracy: 0.9764 - val_loss: 0.1028 - val_accuracy: 0.9734\n",
            "Epoch 80/100\n",
            "12/12 [==============================] - 0s 2ms/step - loss: 0.1097 - accuracy: 0.9764 - val_loss: 0.1021 - val_accuracy: 0.9734\n",
            "Epoch 81/100\n",
            "12/12 [==============================] - 0s 3ms/step - loss: 0.1091 - accuracy: 0.9764 - val_loss: 0.1015 - val_accuracy: 0.9734\n",
            "Epoch 82/100\n",
            "12/12 [==============================] - 0s 3ms/step - loss: 0.1085 - accuracy: 0.9764 - val_loss: 0.1008 - val_accuracy: 0.9734\n",
            "Epoch 83/100\n",
            "12/12 [==============================] - 0s 3ms/step - loss: 0.1079 - accuracy: 0.9764 - val_loss: 0.1001 - val_accuracy: 0.9734\n",
            "Epoch 84/100\n",
            "12/12 [==============================] - 0s 3ms/step - loss: 0.1073 - accuracy: 0.9764 - val_loss: 0.0995 - val_accuracy: 0.9734\n",
            "Epoch 85/100\n",
            "12/12 [==============================] - 0s 2ms/step - loss: 0.1067 - accuracy: 0.9764 - val_loss: 0.0988 - val_accuracy: 0.9734\n",
            "Epoch 86/100\n",
            "12/12 [==============================] - 0s 3ms/step - loss: 0.1062 - accuracy: 0.9764 - val_loss: 0.0981 - val_accuracy: 0.9734\n",
            "Epoch 87/100\n",
            "12/12 [==============================] - 0s 2ms/step - loss: 0.1057 - accuracy: 0.9764 - val_loss: 0.0976 - val_accuracy: 0.9734\n",
            "Epoch 88/100\n",
            "12/12 [==============================] - 0s 2ms/step - loss: 0.1051 - accuracy: 0.9764 - val_loss: 0.0970 - val_accuracy: 0.9734\n",
            "Epoch 89/100\n",
            "12/12 [==============================] - 0s 2ms/step - loss: 0.1046 - accuracy: 0.9764 - val_loss: 0.0964 - val_accuracy: 0.9734\n",
            "Epoch 90/100\n",
            "12/12 [==============================] - 0s 3ms/step - loss: 0.1041 - accuracy: 0.9764 - val_loss: 0.0958 - val_accuracy: 0.9734\n",
            "Epoch 91/100\n",
            "12/12 [==============================] - 0s 3ms/step - loss: 0.1036 - accuracy: 0.9764 - val_loss: 0.0952 - val_accuracy: 0.9734\n",
            "Epoch 92/100\n",
            "12/12 [==============================] - 0s 2ms/step - loss: 0.1030 - accuracy: 0.9764 - val_loss: 0.0947 - val_accuracy: 0.9734\n",
            "Epoch 93/100\n",
            "12/12 [==============================] - 0s 2ms/step - loss: 0.1026 - accuracy: 0.9764 - val_loss: 0.0941 - val_accuracy: 0.9734\n",
            "Epoch 94/100\n",
            "12/12 [==============================] - 0s 2ms/step - loss: 0.1021 - accuracy: 0.9764 - val_loss: 0.0935 - val_accuracy: 0.9734\n",
            "Epoch 95/100\n",
            "12/12 [==============================] - 0s 3ms/step - loss: 0.1016 - accuracy: 0.9764 - val_loss: 0.0931 - val_accuracy: 0.9734\n",
            "Epoch 96/100\n",
            "12/12 [==============================] - 0s 3ms/step - loss: 0.1011 - accuracy: 0.9764 - val_loss: 0.0925 - val_accuracy: 0.9734\n",
            "Epoch 97/100\n",
            "12/12 [==============================] - 0s 3ms/step - loss: 0.1007 - accuracy: 0.9764 - val_loss: 0.0920 - val_accuracy: 0.9734\n",
            "Epoch 98/100\n",
            "12/12 [==============================] - 0s 2ms/step - loss: 0.1002 - accuracy: 0.9764 - val_loss: 0.0915 - val_accuracy: 0.9734\n",
            "Epoch 99/100\n",
            "12/12 [==============================] - 0s 2ms/step - loss: 0.0999 - accuracy: 0.9764 - val_loss: 0.0910 - val_accuracy: 0.9734\n",
            "Epoch 100/100\n",
            "12/12 [==============================] - 0s 2ms/step - loss: 0.0994 - accuracy: 0.9764 - val_loss: 0.0905 - val_accuracy: 0.9734\n"
          ],
          "name": "stdout"
        }
      ]
    },
    {
      "cell_type": "markdown",
      "metadata": {
        "id": "FGiKRJ6cFh3Z",
        "colab_type": "text"
      },
      "source": [
        "# **Accuracy** **Test**"
      ]
    },
    {
      "cell_type": "code",
      "metadata": {
        "id": "3Nc7vCyhDqNs",
        "colab_type": "code",
        "colab": {
          "base_uri": "https://localhost:8080/",
          "height": 85
        },
        "outputId": "973f8d37-0c86-4ee3-e397-a4d395117947"
      },
      "source": [
        "print(\"Train Score\", model.evaluate(X_train,Y_train))\n",
        "print(\"Test Score\", model.evaluate(X_test,Y_test))"
      ],
      "execution_count": 31,
      "outputs": [
        {
          "output_type": "stream",
          "text": [
            "12/12 [==============================] - 0s 1ms/step - loss: 0.0991 - accuracy: 0.9764\n",
            "Train Score [0.09906061738729477, 0.9763779640197754]\n",
            "6/6 [==============================] - 0s 1ms/step - loss: 0.0905 - accuracy: 0.9734\n",
            "Test Score [0.0905052125453949, 0.9734042286872864]\n"
          ],
          "name": "stdout"
        }
      ]
    },
    {
      "cell_type": "code",
      "metadata": {
        "id": "wXMbjQjpFGm9",
        "colab_type": "code",
        "colab": {}
      },
      "source": [
        ""
      ],
      "execution_count": null,
      "outputs": []
    }
  ]
}